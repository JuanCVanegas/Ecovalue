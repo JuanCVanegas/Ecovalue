{
 "cells": [
  {
   "cell_type": "code",
   "execution_count": 1,
   "metadata": {},
   "outputs": [],
   "source": [
    "import pandas as pd"
   ]
  },
  {
   "cell_type": "code",
   "execution_count": 2,
   "metadata": {},
   "outputs": [
    {
     "data": {
      "text/html": [
       "<div>\n",
       "<style scoped>\n",
       "    .dataframe tbody tr th:only-of-type {\n",
       "        vertical-align: middle;\n",
       "    }\n",
       "\n",
       "    .dataframe tbody tr th {\n",
       "        vertical-align: top;\n",
       "    }\n",
       "\n",
       "    .dataframe thead th {\n",
       "        text-align: right;\n",
       "    }\n",
       "</style>\n",
       "<table border=\"1\" class=\"dataframe\">\n",
       "  <thead>\n",
       "    <tr style=\"text-align: right;\">\n",
       "      <th></th>\n",
       "      <th>DATES</th>\n",
       "      <th>U REVENUE</th>\n",
       "      <th>D CR</th>\n",
       "      <th>U OE</th>\n",
       "      <th>U NOI</th>\n",
       "      <th>D CAPEX</th>\n",
       "      <th>D CWK</th>\n",
       "      <th>U FCF</th>\n",
       "    </tr>\n",
       "  </thead>\n",
       "  <tbody>\n",
       "    <tr>\n",
       "      <th>0</th>\n",
       "      <td>2009-12-31</td>\n",
       "      <td>2516.599342</td>\n",
       "      <td>874.898921</td>\n",
       "      <td>598.309344</td>\n",
       "      <td>149.053332</td>\n",
       "      <td>401.606865</td>\n",
       "      <td>5300.000000</td>\n",
       "      <td>1054.796450</td>\n",
       "    </tr>\n",
       "    <tr>\n",
       "      <th>1</th>\n",
       "      <td>2010-03-31</td>\n",
       "      <td>2518.608721</td>\n",
       "      <td>833.020996</td>\n",
       "      <td>541.730570</td>\n",
       "      <td>164.825608</td>\n",
       "      <td>401.245866</td>\n",
       "      <td>5254.775146</td>\n",
       "      <td>993.967677</td>\n",
       "    </tr>\n",
       "    <tr>\n",
       "      <th>2</th>\n",
       "      <td>2010-06-30</td>\n",
       "      <td>2460.543129</td>\n",
       "      <td>835.572367</td>\n",
       "      <td>518.111318</td>\n",
       "      <td>101.700164</td>\n",
       "      <td>403.092853</td>\n",
       "      <td>4904.766469</td>\n",
       "      <td>917.011559</td>\n",
       "    </tr>\n",
       "    <tr>\n",
       "      <th>3</th>\n",
       "      <td>2010-09-30</td>\n",
       "      <td>2352.904762</td>\n",
       "      <td>823.596420</td>\n",
       "      <td>495.461187</td>\n",
       "      <td>119.743101</td>\n",
       "      <td>401.887766</td>\n",
       "      <td>4852.412029</td>\n",
       "      <td>1333.338459</td>\n",
       "    </tr>\n",
       "    <tr>\n",
       "      <th>4</th>\n",
       "      <td>2010-12-31</td>\n",
       "      <td>2813.994378</td>\n",
       "      <td>876.890565</td>\n",
       "      <td>475.019894</td>\n",
       "      <td>108.378541</td>\n",
       "      <td>450.281886</td>\n",
       "      <td>4528.793765</td>\n",
       "      <td>1384.466187</td>\n",
       "    </tr>\n",
       "  </tbody>\n",
       "</table>\n",
       "</div>"
      ],
      "text/plain": [
       "       DATES    U REVENUE        D CR        U OE       U NOI     D CAPEX  \\\n",
       "0 2009-12-31  2516.599342  874.898921  598.309344  149.053332  401.606865   \n",
       "1 2010-03-31  2518.608721  833.020996  541.730570  164.825608  401.245866   \n",
       "2 2010-06-30  2460.543129  835.572367  518.111318  101.700164  403.092853   \n",
       "3 2010-09-30  2352.904762  823.596420  495.461187  119.743101  401.887766   \n",
       "4 2010-12-31  2813.994378  876.890565  475.019894  108.378541  450.281886   \n",
       "\n",
       "         D CWK        U FCF  \n",
       "0  5300.000000  1054.796450  \n",
       "1  5254.775146   993.967677  \n",
       "2  4904.766469   917.011559  \n",
       "3  4852.412029  1333.338459  \n",
       "4  4528.793765  1384.466187  "
      ]
     },
     "execution_count": 2,
     "metadata": {},
     "output_type": "execute_result"
    }
   ],
   "source": [
    "df = pd.read_csv('Upside_risk_2.csv')\n",
    "df[ 'DATES' ] = pd.to_datetime(df['DATES'])\n",
    "df.head()"
   ]
  },
  {
   "cell_type": "code",
   "execution_count": 3,
   "metadata": {},
   "outputs": [
    {
     "data": {
      "text/html": [
       "<div>\n",
       "<style scoped>\n",
       "    .dataframe tbody tr th:only-of-type {\n",
       "        vertical-align: middle;\n",
       "    }\n",
       "\n",
       "    .dataframe tbody tr th {\n",
       "        vertical-align: top;\n",
       "    }\n",
       "\n",
       "    .dataframe thead th {\n",
       "        text-align: right;\n",
       "    }\n",
       "</style>\n",
       "<table border=\"1\" class=\"dataframe\">\n",
       "  <thead>\n",
       "    <tr style=\"text-align: right;\">\n",
       "      <th></th>\n",
       "      <th>U REVENUE</th>\n",
       "      <th>D CR</th>\n",
       "      <th>U OE</th>\n",
       "      <th>U NOI</th>\n",
       "      <th>D CAPEX</th>\n",
       "      <th>D CWK</th>\n",
       "      <th>U FCF</th>\n",
       "    </tr>\n",
       "    <tr>\n",
       "      <th>DATES</th>\n",
       "      <th></th>\n",
       "      <th></th>\n",
       "      <th></th>\n",
       "      <th></th>\n",
       "      <th></th>\n",
       "      <th></th>\n",
       "      <th></th>\n",
       "    </tr>\n",
       "  </thead>\n",
       "  <tbody>\n",
       "    <tr>\n",
       "      <th>2009-12-31</th>\n",
       "      <td>2516.599342</td>\n",
       "      <td>874.898921</td>\n",
       "      <td>598.309344</td>\n",
       "      <td>149.053332</td>\n",
       "      <td>401.606865</td>\n",
       "      <td>5300.000000</td>\n",
       "      <td>1054.796450</td>\n",
       "    </tr>\n",
       "    <tr>\n",
       "      <th>2010-01-31</th>\n",
       "      <td>NaN</td>\n",
       "      <td>NaN</td>\n",
       "      <td>NaN</td>\n",
       "      <td>NaN</td>\n",
       "      <td>NaN</td>\n",
       "      <td>NaN</td>\n",
       "      <td>NaN</td>\n",
       "    </tr>\n",
       "    <tr>\n",
       "      <th>2010-02-28</th>\n",
       "      <td>NaN</td>\n",
       "      <td>NaN</td>\n",
       "      <td>NaN</td>\n",
       "      <td>NaN</td>\n",
       "      <td>NaN</td>\n",
       "      <td>NaN</td>\n",
       "      <td>NaN</td>\n",
       "    </tr>\n",
       "    <tr>\n",
       "      <th>2010-03-31</th>\n",
       "      <td>2518.608721</td>\n",
       "      <td>833.020996</td>\n",
       "      <td>541.730570</td>\n",
       "      <td>164.825608</td>\n",
       "      <td>401.245866</td>\n",
       "      <td>5254.775146</td>\n",
       "      <td>993.967677</td>\n",
       "    </tr>\n",
       "    <tr>\n",
       "      <th>2010-04-30</th>\n",
       "      <td>NaN</td>\n",
       "      <td>NaN</td>\n",
       "      <td>NaN</td>\n",
       "      <td>NaN</td>\n",
       "      <td>NaN</td>\n",
       "      <td>NaN</td>\n",
       "      <td>NaN</td>\n",
       "    </tr>\n",
       "    <tr>\n",
       "      <th>...</th>\n",
       "      <td>...</td>\n",
       "      <td>...</td>\n",
       "      <td>...</td>\n",
       "      <td>...</td>\n",
       "      <td>...</td>\n",
       "      <td>...</td>\n",
       "      <td>...</td>\n",
       "    </tr>\n",
       "    <tr>\n",
       "      <th>2018-08-31</th>\n",
       "      <td>NaN</td>\n",
       "      <td>NaN</td>\n",
       "      <td>NaN</td>\n",
       "      <td>NaN</td>\n",
       "      <td>NaN</td>\n",
       "      <td>NaN</td>\n",
       "      <td>NaN</td>\n",
       "    </tr>\n",
       "    <tr>\n",
       "      <th>2018-09-30</th>\n",
       "      <td>2948.610830</td>\n",
       "      <td>587.220525</td>\n",
       "      <td>610.197038</td>\n",
       "      <td>552.970759</td>\n",
       "      <td>87.610502</td>\n",
       "      <td>2106.896131</td>\n",
       "      <td>891.926215</td>\n",
       "    </tr>\n",
       "    <tr>\n",
       "      <th>2018-10-31</th>\n",
       "      <td>NaN</td>\n",
       "      <td>NaN</td>\n",
       "      <td>NaN</td>\n",
       "      <td>NaN</td>\n",
       "      <td>NaN</td>\n",
       "      <td>NaN</td>\n",
       "      <td>NaN</td>\n",
       "    </tr>\n",
       "    <tr>\n",
       "      <th>2018-11-30</th>\n",
       "      <td>NaN</td>\n",
       "      <td>NaN</td>\n",
       "      <td>NaN</td>\n",
       "      <td>NaN</td>\n",
       "      <td>NaN</td>\n",
       "      <td>NaN</td>\n",
       "      <td>NaN</td>\n",
       "    </tr>\n",
       "    <tr>\n",
       "      <th>2018-12-31</th>\n",
       "      <td>2024.533926</td>\n",
       "      <td>498.514414</td>\n",
       "      <td>631.273407</td>\n",
       "      <td>518.936515</td>\n",
       "      <td>84.231328</td>\n",
       "      <td>1976.900422</td>\n",
       "      <td>870.280900</td>\n",
       "    </tr>\n",
       "  </tbody>\n",
       "</table>\n",
       "<p>109 rows × 7 columns</p>\n",
       "</div>"
      ],
      "text/plain": [
       "              U REVENUE        D CR        U OE       U NOI     D CAPEX  \\\n",
       "DATES                                                                     \n",
       "2009-12-31  2516.599342  874.898921  598.309344  149.053332  401.606865   \n",
       "2010-01-31          NaN         NaN         NaN         NaN         NaN   \n",
       "2010-02-28          NaN         NaN         NaN         NaN         NaN   \n",
       "2010-03-31  2518.608721  833.020996  541.730570  164.825608  401.245866   \n",
       "2010-04-30          NaN         NaN         NaN         NaN         NaN   \n",
       "...                 ...         ...         ...         ...         ...   \n",
       "2018-08-31          NaN         NaN         NaN         NaN         NaN   \n",
       "2018-09-30  2948.610830  587.220525  610.197038  552.970759   87.610502   \n",
       "2018-10-31          NaN         NaN         NaN         NaN         NaN   \n",
       "2018-11-30          NaN         NaN         NaN         NaN         NaN   \n",
       "2018-12-31  2024.533926  498.514414  631.273407  518.936515   84.231328   \n",
       "\n",
       "                  D CWK        U FCF  \n",
       "DATES                                 \n",
       "2009-12-31  5300.000000  1054.796450  \n",
       "2010-01-31          NaN          NaN  \n",
       "2010-02-28          NaN          NaN  \n",
       "2010-03-31  5254.775146   993.967677  \n",
       "2010-04-30          NaN          NaN  \n",
       "...                 ...          ...  \n",
       "2018-08-31          NaN          NaN  \n",
       "2018-09-30  2106.896131   891.926215  \n",
       "2018-10-31          NaN          NaN  \n",
       "2018-11-30          NaN          NaN  \n",
       "2018-12-31  1976.900422   870.280900  \n",
       "\n",
       "[109 rows x 7 columns]"
      ]
     },
     "execution_count": 3,
     "metadata": {},
     "output_type": "execute_result"
    }
   ],
   "source": [
    "df1 = df.set_index('DATES').resample('1m').mean()\n",
    "df1"
   ]
  },
  {
   "cell_type": "code",
   "execution_count": 4,
   "metadata": {},
   "outputs": [],
   "source": [
    "#df1[df1['D REVENUE'].isna()]"
   ]
  },
  {
   "cell_type": "code",
   "execution_count": 5,
   "metadata": {},
   "outputs": [],
   "source": [
    "#df1['Revenue'].interpolate('linear').plot()\n",
    "#pd.DataFrame(df['Revenue'], index=df['Date']).interpolate(method='time')"
   ]
  },
  {
   "cell_type": "code",
   "execution_count": 6,
   "metadata": {},
   "outputs": [
    {
     "data": {
      "text/plain": [
       "<matplotlib.axes._subplots.AxesSubplot at 0x1a4c82a4608>"
      ]
     },
     "execution_count": 6,
     "metadata": {},
     "output_type": "execute_result"
    },
    {
     "data": {
      "image/png": "[encoded data removed]",
      "text/plain": [
       "<Figure size 432x288 with 1 Axes>"
      ]
     },
     "metadata": {
      "needs_background": "light"
     },
     "output_type": "display_data"
    }
   ],
   "source": [
    "df1['U REVENUE'].interpolate('linear').plot()"
   ]
  },
  {
   "cell_type": "code",
   "execution_count": 7,
   "metadata": {},
   "outputs": [
    {
     "data": {
      "text/plain": [
       "<matplotlib.axes._subplots.AxesSubplot at 0x1a4c8404588>"
      ]
     },
     "execution_count": 7,
     "metadata": {},
     "output_type": "execute_result"
    },
    {
     "data": {
      "image/png": "[encoded data removed]",
      "text/plain": [
       "<Figure size 432x288 with 1 Axes>"
      ]
     },
     "metadata": {
      "needs_background": "light"
     },
     "output_type": "display_data"
    }
   ],
   "source": [
    "df1['U OE'].interpolate('linear').plot()"
   ]
  },
  {
   "cell_type": "code",
   "execution_count": 8,
   "metadata": {},
   "outputs": [
    {
     "data": {
      "text/plain": [
       "<matplotlib.axes._subplots.AxesSubplot at 0x1a4c84ca308>"
      ]
     },
     "execution_count": 8,
     "metadata": {},
     "output_type": "execute_result"
    },
    {
     "data": {
      "image/png": "[encoded data removed]",
      "text/plain": [
       "<Figure size 432x288 with 1 Axes>"
      ]
     },
     "metadata": {
      "needs_background": "light"
     },
     "output_type": "display_data"
    }
   ],
   "source": [
    "df1['D CR'].interpolate('linear').plot()"
   ]
  },
  {
   "cell_type": "code",
   "execution_count": 9,
   "metadata": {},
   "outputs": [
    {
     "data": {
      "text/plain": [
       "<matplotlib.axes._subplots.AxesSubplot at 0x1a4c854d2c8>"
      ]
     },
     "execution_count": 9,
     "metadata": {},
     "output_type": "execute_result"
    },
    {
     "data": {
      "image/png": "[encoded data removed]",
      "text/plain": [
       "<Figure size 432x288 with 1 Axes>"
      ]
     },
     "metadata": {
      "needs_background": "light"
     },
     "output_type": "display_data"
    }
   ],
   "source": [
    "df1['U NOI'].interpolate('linear').plot()"
   ]
  },
  {
   "cell_type": "code",
   "execution_count": 10,
   "metadata": {},
   "outputs": [
    {
     "data": {
      "text/plain": [
       "<matplotlib.axes._subplots.AxesSubplot at 0x1a4c86382c8>"
      ]
     },
     "execution_count": 10,
     "metadata": {},
     "output_type": "execute_result"
    },
    {
     "data": {
      "image/png": "[encoded data removed]",
      "text/plain": [
       "<Figure size 432x288 with 1 Axes>"
      ]
     },
     "metadata": {
      "needs_background": "light"
     },
     "output_type": "display_data"
    }
   ],
   "source": [
    "df1['D CAPEX'].interpolate('linear').plot()"
   ]
  },
  {
   "cell_type": "code",
   "execution_count": 11,
   "metadata": {},
   "outputs": [
    {
     "data": {
      "text/plain": [
       "<matplotlib.axes._subplots.AxesSubplot at 0x1a4c86badc8>"
      ]
     },
     "execution_count": 11,
     "metadata": {},
     "output_type": "execute_result"
    },
    {
     "data": {
      "image/png": "[encoded data removed]",
      "text/plain": [
       "<Figure size 432x288 with 1 Axes>"
      ]
     },
     "metadata": {
      "needs_background": "light"
     },
     "output_type": "display_data"
    }
   ],
   "source": [
    "df1['D CWK'].interpolate('linear').plot()"
   ]
  },
  {
   "cell_type": "code",
   "execution_count": 12,
   "metadata": {},
   "outputs": [
    {
     "data": {
      "text/plain": [
       "<matplotlib.axes._subplots.AxesSubplot at 0x1a4c879f248>"
      ]
     },
     "execution_count": 12,
     "metadata": {},
     "output_type": "execute_result"
    },
    {
     "data": {
      "image/png": "[encoded data removed]",
      "text/plain": [
       "<Figure size 432x288 with 1 Axes>"
      ]
     },
     "metadata": {
      "needs_background": "light"
     },
     "output_type": "display_data"
    }
   ],
   "source": [
    "df1['U FCF'].interpolate('linear').plot()"
   ]
  },
  {
   "cell_type": "code",
   "execution_count": 13,
   "metadata": {},
   "outputs": [],
   "source": [
    "df1['U REVENUE'] = df1['U REVENUE'].interpolate('linear')\n",
    "df1['D CR'] = df1['D CR'].interpolate('linear')\n",
    "df1['U OE'] = df1['U OE'].interpolate('linear')\n",
    "df1['U NOI'] = df1['U NOI'].interpolate('linear')\n",
    "df1['D CAPEX'] = df1['D CAPEX'].interpolate('linear')\n",
    "df1['D CWK'] = df1['D CWK'].interpolate('linear')\n",
    "df1['U FCF'] = df1['U FCF'].interpolate('linear')"
   ]
  },
  {
   "cell_type": "code",
   "execution_count": 14,
   "metadata": {},
   "outputs": [
    {
     "data": {
      "text/plain": [
       "<bound method DataFrame.info of               U REVENUE        D CR        U OE       U NOI     D CAPEX  \\\n",
       "DATES                                                                     \n",
       "2009-12-31  2516.599342  874.898921  598.309344  149.053332  401.606865   \n",
       "2010-01-31  2517.269135  860.939613  579.449753  154.310757  401.486532   \n",
       "2010-02-28  2517.938928  846.980305  560.590161  159.568183  401.366199   \n",
       "2010-03-31  2518.608721  833.020996  541.730570  164.825608  401.245866   \n",
       "2010-04-30  2499.253524  833.871453  533.857486  143.783793  401.861529   \n",
       "...                 ...         ...         ...         ...         ...   \n",
       "2018-08-31  2868.128469  588.943082  608.691733  568.627944   85.443487   \n",
       "2018-09-30  2948.610830  587.220525  610.197038  552.970759   87.610502   \n",
       "2018-10-31  2640.585195  557.651821  617.222494  541.626011   86.484111   \n",
       "2018-11-30  2332.559561  528.083117  624.247951  530.281263   85.357719   \n",
       "2018-12-31  2024.533926  498.514414  631.273407  518.936515   84.231328   \n",
       "\n",
       "                  D CWK        U FCF  \n",
       "DATES                                 \n",
       "2009-12-31  5300.000000  1054.796450  \n",
       "2010-01-31  5284.925049  1034.520192  \n",
       "2010-02-28  5269.850098  1014.243935  \n",
       "2010-03-31  5254.775146   993.967677  \n",
       "2010-04-30  5138.105587   968.315638  \n",
       "...                 ...          ...  \n",
       "2018-08-31  2157.205350   971.964143  \n",
       "2018-09-30  2106.896131   891.926215  \n",
       "2018-10-31  2063.564228   884.711110  \n",
       "2018-11-30  2020.232325   877.496005  \n",
       "2018-12-31  1976.900422   870.280900  \n",
       "\n",
       "[109 rows x 7 columns]>"
      ]
     },
     "execution_count": 14,
     "metadata": {},
     "output_type": "execute_result"
    }
   ],
   "source": [
    "df1.info"
   ]
  },
  {
   "cell_type": "code",
   "execution_count": 15,
   "metadata": {},
   "outputs": [],
   "source": [
    "df1.to_csv(\"InterpolatedNumMonth.csv\")"
   ]
  },
  {
   "cell_type": "code",
   "execution_count": 16,
   "metadata": {},
   "outputs": [],
   "source": [
    "den = pd.read_csv(\"InterpolatedNumMonth.csv\")"
   ]
  },
  {
   "cell_type": "code",
   "execution_count": 17,
   "metadata": {},
   "outputs": [
    {
     "data": {
      "text/plain": [
       "<bound method DataFrame.info of           DATES    U REVENUE        D CR        U OE       U NOI     D CAPEX  \\\n",
       "0    2009-12-31  2516.599342  874.898921  598.309344  149.053332  401.606865   \n",
       "1    2010-01-31  2517.269135  860.939613  579.449753  154.310757  401.486532   \n",
       "2    2010-02-28  2517.938928  846.980305  560.590161  159.568183  401.366199   \n",
       "3    2010-03-31  2518.608721  833.020996  541.730570  164.825608  401.245866   \n",
       "4    2010-04-30  2499.253524  833.871453  533.857486  143.783793  401.861529   \n",
       "..          ...          ...         ...         ...         ...         ...   \n",
       "104  2018-08-31  2868.128469  588.943082  608.691733  568.627944   85.443487   \n",
       "105  2018-09-30  2948.610830  587.220525  610.197038  552.970759   87.610502   \n",
       "106  2018-10-31  2640.585195  557.651821  617.222494  541.626011   86.484111   \n",
       "107  2018-11-30  2332.559561  528.083117  624.247951  530.281263   85.357719   \n",
       "108  2018-12-31  2024.533926  498.514414  631.273407  518.936515   84.231328   \n",
       "\n",
       "           D CWK        U FCF  \n",
       "0    5300.000000  1054.796450  \n",
       "1    5284.925049  1034.520192  \n",
       "2    5269.850098  1014.243935  \n",
       "3    5254.775146   993.967677  \n",
       "4    5138.105587   968.315638  \n",
       "..           ...          ...  \n",
       "104  2157.205350   971.964143  \n",
       "105  2106.896131   891.926215  \n",
       "106  2063.564228   884.711110  \n",
       "107  2020.232325   877.496005  \n",
       "108  1976.900422   870.280900  \n",
       "\n",
       "[109 rows x 8 columns]>"
      ]
     },
     "execution_count": 17,
     "metadata": {},
     "output_type": "execute_result"
    }
   ],
   "source": [
    "den.info"
   ]
  },
  {
   "cell_type": "code",
   "execution_count": null,
   "metadata": {},
   "outputs": [],
   "source": []
  },
  {
   "cell_type": "code",
   "execution_count": null,
   "metadata": {},
   "outputs": [],
   "source": []
  }
 ],
 "metadata": {
  "kernelspec": {
   "display_name": "Python 3",
   "language": "python",
   "name": "python3"
  },
  "language_info": {
   "codemirror_mode": {
    "name": "ipython",
    "version": 3
   },
   "file_extension": ".py",
   "mimetype": "text/x-python",
   "name": "python",
   "nbconvert_exporter": "python",
   "pygments_lexer": "ipython3",
   "version": "3.7.7"
  }
 },
 "nbformat": 4,
 "nbformat_minor": 4
}
