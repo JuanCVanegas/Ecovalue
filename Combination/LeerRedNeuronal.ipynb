{
 "cells": [
  {
   "cell_type": "code",
   "execution_count": 1,
   "metadata": {},
   "outputs": [
    {
     "name": "stderr",
     "output_type": "stream",
     "text": [
      "Using TensorFlow backend.\n"
     ]
    }
   ],
   "source": [
    "from keras.models import model_from_json\n",
    "from numpy import array\n",
    "import pandas as pd\n",
    "import random"
   ]
  },
  {
   "cell_type": "code",
   "execution_count": 2,
   "metadata": {},
   "outputs": [],
   "source": [
    "# Numerador\n",
    "# load json and create model\n",
    "json_file = open('modelnum.json', 'r')\n",
    "loaded_model_json = json_file.read()\n",
    "json_file.close()\n",
    "loaded_model_num = model_from_json(loaded_model_json)\n",
    "# load weights into new model\n",
    "loaded_model_num.load_weights(\"modelnum.h5\")\n",
    "# Denominador\n",
    "json_file = open('modelden.json', 'r')\n",
    "loaded_model_json = json_file.read()\n",
    "json_file.close()\n",
    "loaded_model_den = model_from_json(loaded_model_json)\n",
    "# load weights into new model\n",
    "loaded_model_den.load_weights(\"modelden.h5\")"
   ]
  },
  {
   "cell_type": "code",
   "execution_count": 3,
   "metadata": {},
   "outputs": [],
   "source": [
    "df_N = pd.read_csv('Interpolation/InterpolatedNumMonth.csv')\n",
    "df = pd.read_csv('Interpolation/InterpolatedDenMonth.csv')\n",
    "max_D = {'D REVENUE':df['D REVENUE'].max(), 'U CR':df['U CR'].max(), 'D OE':df['D OE'].max(), \n",
    "       'D NOI':df['D NOI'].max(),'U CAPEX':df['U CAPEX'].max(), 'U CWK':df['U CWK'].max()} \n",
    "min_D = {'D REVENUE':df['D REVENUE'].min(), 'U CR':df['U CR'].min(), 'D OE':df['D OE'].min(), \n",
    "       'D NOI':df['D NOI'].min(),'U CAPEX':df['U CAPEX'].min(), 'U CWK':df['U CWK'].min()}\n",
    "max_N = {'U REVENUE':df_N['U REVENUE'].max(), 'D CR':df_N['D CR'].max(), 'U OE':df_N['U OE'].max(), \n",
    "       'U NOI':df_N['U NOI'].max(),'D CAPEX':df_N['D CAPEX'].max(), 'D CWK':df_N['D CWK'].max()} \n",
    "min_N = {'U REVENUE':df_N['U REVENUE'].min(), 'D CR':df_N['D CR'].min(), 'U OE':df_N['U OE'].min(), \n",
    "       'U NOI':df_N['U NOI'].min(),'D CAPEX':df_N['D CAPEX'].min(), 'D CWK':df_N['D CWK'].min()}"
   ]
  },
  {
   "cell_type": "code",
   "execution_count": null,
   "metadata": {},
   "outputs": [],
   "source": []
  },
  {
   "cell_type": "code",
   "execution_count": 4,
   "metadata": {},
   "outputs": [],
   "source": [
    "w1 = random.uniform(min_N['U REVENUE'], max_N['U REVENUE'])\n",
    "w2 =  random.uniform(min_N['D CR'], max_N['D CR'])\n",
    "w3 = random.uniform(min_N['U OE'], max_N['U OE'])\n",
    "w4 =  random.uniform(min_N['U NOI'], max_N['U NOI'])\n",
    "w5 = random.uniform(min_N['D CAPEX'], max_N['D CAPEX'])\n",
    "w6 = random.uniform(min_N['D CWK'], max_N['D CWK'])\n",
    "w7 = random.uniform(min_D['D REVENUE'], max_D['D REVENUE'])\n",
    "w8 = random.uniform(min_D['U CR'], max_D['U CR'])\n",
    "w9 = random.uniform(min_D['D OE'], max_D['D OE'])\n",
    "w10 = random.uniform(min_D['D NOI'], max_D['D NOI'])\n",
    "w11 = random.uniform(min_D['U CAPEX'], max_D['U CAPEX'])\n",
    "w12 = random.uniform(min_D['U CWK'], max_D['U CWK'])\n",
    "w1_std = (w1-min_N['U REVENUE'])/(max_N['U REVENUE']-min_N['U REVENUE'])\n",
    "w2_std = (w2-min_N['D CR'])/(max_N['D CR']-min_N['D CR'])\n",
    "w3_std = (w3-min_N['U OE'])/(max_N['U OE']-min_N['U OE'])\n",
    "w4_std = (w4-min_N['U NOI'])/(max_N['U NOI']-min_N['U NOI'])\n",
    "w5_std = (w5-min_N['D CAPEX'])/(max_N['D CAPEX']-min_N['D CAPEX'])\n",
    "w6_std = (w6-min_N['D CWK'])/(max_N['D CWK']-min_N['D CWK'])\n",
    "w7_std = (w7-min_D['D REVENUE'])/(max_D['D REVENUE']-min_D['D REVENUE'])\n",
    "w8_std = (w8-min_D['U CR'])/(max_D['U CR']-min_D['U CR'])\n",
    "w9_std = (w9-min_D['D OE'])/(max_D['D OE']-min_D['D OE'])\n",
    "w10_std = (w10-min_D['D NOI'])/(max_D['D NOI']-min_D['D NOI'])\n",
    "w11_std = (w11-min_D['U CAPEX'])/(max_D['U CAPEX']-min_D['U CAPEX'])\n",
    "w12_std = (w12-min_D['U CWK'])/(max_D['U CWK']-min_D['U CWK'])\n"
   ]
  },
  {
   "cell_type": "code",
   "execution_count": 5,
   "metadata": {},
   "outputs": [],
   "source": [
    "w_numerador = [[w1_std, w2_std, w3_std, w4_std, w5_std, w6_std]]\n",
    "w_denominador = [[w7_std, w8_std, w9_std, w10_std, w11_std, w12_std]]\n",
    "Xnewnum = array(w_numerador)\n",
    "Xnewden = array(w_denominador)\n",
    "# make a prediction\n",
    "numerador = loaded_model_num.predict(Xnewnum) \n",
    "denominador = loaded_model_den.predict(Xnewden)\n",
    "function_costo2 = numerador/denominador"
   ]
  },
  {
   "cell_type": "code",
   "execution_count": 6,
   "metadata": {},
   "outputs": [
    {
     "name": "stdout",
     "output_type": "stream",
     "text": [
      "[[0.08855359 0.37324872 0.52265246 0.33744747 0.11312589 0.3250783 ]]\n"
     ]
    }
   ],
   "source": [
    "print(Xnewnum)"
   ]
  },
  {
   "cell_type": "code",
   "execution_count": 7,
   "metadata": {},
   "outputs": [
    {
     "name": "stdout",
     "output_type": "stream",
     "text": [
      "[[0.08453422 0.50561253 0.51467113 0.95524363 0.86205675 0.14324694]]\n"
     ]
    }
   ],
   "source": [
    "print(Xnewden)"
   ]
  },
  {
   "cell_type": "code",
   "execution_count": 8,
   "metadata": {},
   "outputs": [
    {
     "name": "stdout",
     "output_type": "stream",
     "text": [
      "1.2294629\n"
     ]
    }
   ],
   "source": [
    "print(function_costo2[0][0])"
   ]
  },
  {
   "cell_type": "code",
   "execution_count": null,
   "metadata": {},
   "outputs": [],
   "source": []
  }
 ],
 "metadata": {
  "kernelspec": {
   "display_name": "Python 3",
   "language": "python",
   "name": "python3"
  },
  "language_info": {
   "codemirror_mode": {
    "name": "ipython",
    "version": 3
   },
   "file_extension": ".py",
   "mimetype": "text/x-python",
   "name": "python",
   "nbconvert_exporter": "python",
   "pygments_lexer": "ipython3",
   "version": "3.7.7"
  }
 },
 "nbformat": 4,
 "nbformat_minor": 4
}
