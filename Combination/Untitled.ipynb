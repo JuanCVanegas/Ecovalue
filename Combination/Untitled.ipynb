{
 "cells": [
  {
   "cell_type": "code",
   "execution_count": 7,
   "metadata": {},
   "outputs": [],
   "source": [
    "import random\n",
    "import math\n",
    "import pandas as pd\n",
    "import numpy as np\n",
    "from numpy import array"
   ]
  },
  {
   "cell_type": "code",
   "execution_count": 8,
   "metadata": {},
   "outputs": [],
   "source": [
    "df = pd.read_csv('Interpolation/InterpolatedDenMonth.csv')\n",
    "df_N = pd.read_csv('Interpolation/InterpolatedNumMonth.csv')"
   ]
  },
  {
   "cell_type": "code",
   "execution_count": 9,
   "metadata": {},
   "outputs": [],
   "source": [
    "max_D = {'D REVENUE':df['D REVENUE'].max(), 'U CR':df['U CR'].max(), 'D OE':df['D OE'].max(), \n",
    "       'D NOI':df['D NOI'].max(),'U CAPEX':df['U CAPEX'].max(), 'U CWK':df['U CWK'].max()} \n",
    "min_D = {'D REVENUE':df['D REVENUE'].min(), 'U CR':df['U CR'].min(), 'D OE':df['D OE'].min(), \n",
    "   'D NOI':df['D NOI'].min(),'U CAPEX':df['U CAPEX'].min(), 'U CWK':df['U CWK'].min()}\n",
    "max_N = {'U REVENUE':df_N['U REVENUE'].max(), 'D CR':df_N['D CR'].max(), 'U OE':df_N['U OE'].max(), \n",
    "   'U NOI':df_N['U NOI'].max(),'D CAPEX':df_N['D CAPEX'].max(), 'D CWK':df_N['D CWK'].max()} \n",
    "min_N = {'U REVENUE':df_N['U REVENUE'].min(), 'D CR':df_N['D CR'].min(), 'U OE':df_N['U OE'].min(), \n",
    "   'U NOI':df_N['U NOI'].min(),'D CAPEX':df_N['D CAPEX'].min(), 'D CWK':df_N['D CWK'].min()}"
   ]
  },
  {
   "cell_type": "code",
   "execution_count": 10,
   "metadata": {},
   "outputs": [],
   "source": [
    "w1 = 30316.433096261204\n",
    "w2 = 1991.0821703853464\n",
    "w3 = 835.8429411188264\n",
    "w4 = 18.79864317983848\n",
    "w5 = 16.89899652952407\n",
    "w6 = 132.70332030177596\n",
    "w7 = 4733.760336772658\n",
    "w8 = 5178.483897653711\n",
    "w9 = 643.4353283254029\n",
    "w10 = 322.49002293147106\n",
    "w11 = 74.22786218929832\n",
    "w12 = 259.35431452113255"
   ]
  },
  {
   "cell_type": "code",
   "execution_count": 12,
   "metadata": {},
   "outputs": [],
   "source": [
    "w1_std = (w1/max_N['U REVENUE'])\n",
    "w2_std = (w2/max_N['D CR'])\n",
    "w3_std = (w3/max_N['U OE'])\n",
    "w4_std = (w4/max_N['U NOI'])\n",
    "w5_std = (w5/max_N['D CAPEX'])\n",
    "w6_std = (w6/max_N['D CWK'])\n",
    "w7_std = (w7/max_D['D REVENUE'])\n",
    "w8_std = (w8/max_D['U CR'])\n",
    "w9_std = (w9/max_D['D OE'])\n",
    "w10_std = (w10/max_D['D NOI'])\n",
    "w11_std = (w11/max_D['U CAPEX'])\n",
    "w12_std = (w12/max_D['U CWK'])\n",
    "\n",
    "wstd = {'w1':w1_std, 'w2':w2_std, 'w3':w3_std, 'w4':w4_std,'w5':w5_std, 'w6':w6_std,'w7':w7_std, 'w8':w8_std,\n",
    "       'w9':w9_std, 'w10':w10_std,'w11':w11_std, 'w12':w12_std}"
   ]
  },
  {
   "cell_type": "code",
   "execution_count": 13,
   "metadata": {},
   "outputs": [
    {
     "data": {
      "text/plain": [
       "{'w1': 9.152341595714066,\n",
       " 'w2': 1.1381295920605154,\n",
       " 'w3': 1.1280438052537995,\n",
       " 'w4': 0.03133408455083418,\n",
       " 'w5': 0.017708264203629958,\n",
       " 'w6': 0.025038362321089806,\n",
       " 'w7': 1.512176035219496,\n",
       " 'w8': 3.294323546807379,\n",
       " 'w9': 0.9520645714302431,\n",
       " 'w10': 0.42571834408699155,\n",
       " 'w11': 0.07778252351388276,\n",
       " 'w12': 0.05982437849960147}"
      ]
     },
     "execution_count": 13,
     "metadata": {},
     "output_type": "execute_result"
    }
   ],
   "source": [
    "wstd"
   ]
  },
  {
   "cell_type": "code",
   "execution_count": null,
   "metadata": {},
   "outputs": [],
   "source": []
  }
 ],
 "metadata": {
  "kernelspec": {
   "display_name": "Python 3",
   "language": "python",
   "name": "python3"
  },
  "language_info": {
   "codemirror_mode": {
    "name": "ipython",
    "version": 3
   },
   "file_extension": ".py",
   "mimetype": "text/x-python",
   "name": "python",
   "nbconvert_exporter": "python",
   "pygments_lexer": "ipython3",
   "version": "3.7.4"
  }
 },
 "nbformat": 4,
 "nbformat_minor": 2
}
