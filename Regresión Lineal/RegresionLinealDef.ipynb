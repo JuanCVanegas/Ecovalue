{
 "cells": [
  {
   "cell_type": "code",
   "execution_count": 8,
   "metadata": {},
   "outputs": [
    {
     "name": "stdout",
     "output_type": "stream",
     "text": [
      "[-0.01740098  0.43393765 -0.21002364  0.06363415]\n",
      "50229.04410919428\n",
      "                            OLS Regression Results                            \n",
      "==============================================================================\n",
      "Dep. Variable:              DR OF FCF   R-squared:                       0.711\n",
      "Model:                            OLS   Adj. R-squared:                  0.710\n",
      "Method:                 Least Squares   F-statistic:                     534.5\n",
      "Date:                Wed, 22 Apr 2020   Prob (F-statistic):          3.04e-232\n",
      "Time:                        21:34:12   Log-Likelihood:                -13120.\n",
      "No. Observations:                 872   AIC:                         2.625e+04\n",
      "Df Residuals:                     867   BIC:                         2.627e+04\n",
      "Df Model:                           4                                         \n",
      "Covariance Type:            nonrobust                                         \n",
      "==============================================================================\n",
      "                 coef    std err          t      P>|t|      [0.025      0.975]\n",
      "------------------------------------------------------------------------------\n",
      "const       5.023e+04   2.83e+04      1.776      0.076   -5265.265    1.06e+05\n",
      "x1            -0.0174      0.018     -0.986      0.324      -0.052       0.017\n",
      "x2             0.4339      0.043      9.990      0.000       0.349       0.519\n",
      "x3            -0.2100      0.040     -5.306      0.000      -0.288      -0.132\n",
      "x4             0.0636      0.003     18.197      0.000       0.057       0.070\n",
      "==============================================================================\n",
      "Omnibus:                     1229.283   Durbin-Watson:                   1.991\n",
      "Prob(Omnibus):                  0.000   Jarque-Bera (JB):           536289.542\n",
      "Skew:                           7.439   Prob(JB):                         0.00\n",
      "Kurtosis:                     123.577   Cond. No.                     1.23e+07\n",
      "==============================================================================\n",
      "\n",
      "Warnings:\n",
      "[1] Standard Errors assume that the covariance matrix of the errors is correctly specified.\n",
      "[2] The condition number is large, 1.23e+07. This might indicate that there are\n",
      "strong multicollinearity or other numerical problems.\n"
     ]
    }
   ],
   "source": [
    "import pandas as pd\n",
    "import numpy as np\n",
    "import matplotlib.pyplot as plt\n",
    "from sklearn.linear_model import LinearRegression\n",
    "from sklearn.metrics import r2_score\n",
    "import statsmodels.api as sm\n",
    "\n",
    "data = pd.read_csv(\"Data7.csv\")\n",
    "data.head()\n",
    "\n",
    "\n",
    "Xs = data.drop(['DR OF FCF',], axis=1)\n",
    "y = data['DR OF FCF']\n",
    "\n",
    "reg = LinearRegression()\n",
    "reg.fit(Xs, y)\n",
    "\n",
    "print(reg.coef_)\n",
    "print(reg.intercept_)\n",
    "\n",
    "\n",
    "reg.score(Xs, y)\n",
    "X = np.column_stack((data['DR OF A'], data['DR OF B'], data['DR OF C'], data['DR OF D']))\n",
    "y = data['DR OF FCF']\n",
    "\n",
    "X2 = sm.add_constant(X)\n",
    "est = sm.OLS(y, X2)\n",
    "est2 = est.fit()\n",
    "print(est2.summary())"
   ]
  },
  {
   "cell_type": "code",
   "execution_count": 9,
   "metadata": {},
   "outputs": [
    {
     "name": "stdout",
     "output_type": "stream",
     "text": [
      "[-0.3352213   1.2386061   0.69359568 -0.20506669]\n",
      "-5143.973669497878\n"
     ]
    },
    {
     "data": {
      "text/plain": [
       "0.763565647743275"
      ]
     },
     "execution_count": 9,
     "metadata": {},
     "output_type": "execute_result"
    }
   ],
   "source": [
    "data2 = pd.read_csv(\"Data8.csv\")\n",
    "data2.head()\n",
    "Xs2 = data2.drop(['UR OF FCF',], axis=1)\n",
    "y2 = data2['UR OF FCF']\n",
    "\n",
    "reg = LinearRegression()\n",
    "reg.fit(Xs2, y2)\n",
    "\n",
    "print(reg.coef_)\n",
    "print(reg.intercept_)\n",
    "\n",
    "\n",
    "reg.score(Xs2, y2)"
   ]
  },
  {
   "cell_type": "code",
   "execution_count": null,
   "metadata": {},
   "outputs": [],
   "source": []
  }
 ],
 "metadata": {
  "kernelspec": {
   "display_name": "Python 3",
   "language": "python",
   "name": "python3"
  },
  "language_info": {
   "codemirror_mode": {
    "name": "ipython",
    "version": 3
   },
   "file_extension": ".py",
   "mimetype": "text/x-python",
   "name": "python",
   "nbconvert_exporter": "python",
   "pygments_lexer": "ipython3",
   "version": "3.7.4"
  }
 },
 "nbformat": 4,
 "nbformat_minor": 2
}
